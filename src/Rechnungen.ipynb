{
 "cells": [
  {
   "cell_type": "code",
   "execution_count": null,
   "metadata": {},
   "outputs": [],
   "source": [
    "from pdf2image import convert_from_path\n",
    "\n",
    "#!apt-get install tesseract-ocr-deu\n",
    "import os\n",
    "os.environ['TESSDATA_PREFIX'] = '/usr/share/tesseract-ocr/4.00/tessdata'\n",
    "\n",
    "import pytesseract\n",
    "import fitz  # PyMuPDF\n",
    "import openai\n",
    "import pandas as pd\n",
    "#from google.colab import files\n",
    "import time  # import time module for pausing\n",
    "import json\n",
    "import os"
   ]
  },
  {
   "cell_type": "code",
   "execution_count": 18,
   "metadata": {},
   "outputs": [],
   "source": [
    "def extract_text_from_pdf(pdf_path):\n",
    "    doc = fitz.open(pdf_path)\n",
    "    text = \"\"\n",
    "    for page in doc:\n",
    "        text += page.get_text()\n",
    "    return text\n",
    "\n",
    "def extract_text_from_images(pdf_path):\n",
    "    images = convert_from_path(pdf_path)\n",
    "    text = \"\"\n",
    "    for image in images:\n",
    "        text += pytesseract.image_to_string(image, lang='deu')  # Verwende 'deu' für deutsche Texte\n",
    "    return text\n",
    "\n",
    "def extract_data_from_text(text, model=\"gpt-3.5-turbo\", max_text_size=15000):\n",
    "    text = text[:max_text_size]\n",
    "    prompt = '''Du bekommst gleich einen String, der mit OCR aus einer Rechnung extrahiert wurde. Es handelt sich um eine einzelne Rechnung, die auch aus mehreren Seiten bestehen kann. Extrahiere die folgenden Daten aus diesem Text und gib sie im JSON-Format für die gesamte Rechnung aus. Gebe nur ein einzelnes JSON-Objekt aus. Hier ist eine Erklärung dazu, wie das JSON Objekt aussehen soll und was in die Felder rein soll: {\n",
    "      \"Vertragsnummer\": \"Hier soll die Vertragsnummer stehen. Diese ist in der Regel ein Integer, könnte aber in Ausnahmefällen auch andere Zeichen enthalten\",\n",
    "      \"Adresse Verbrauchsstelle\": \"Das hier ist die Adresse der Verbrauchsstelle. Verwechsele sie nicht mit der Rechnungsadresse! Sie besteht aus Straße, Hausnummer, Postleitzahl und Ort\",\n",
    "      \"Verbrauchte Menge\": \"Hier soll die verbrauchte Menge in Kilowattstunden (kWh) stehen. Wenn die Menge in Megawattstungen (MWh) angegeben ist, multipliziere mal 1000\",\n",
    "      \"Start abgerechneter Zeitraum\": \"Gebe hier den Anfang des Abgerechneten Zeitraums als JJJJ-MM-TT an\",\n",
    "      \"Ende abgerechneter Zeitraum\": \"Gebe hier das Ende des Abgerechneten Zeitraums als JJJJ-MM-TT an\",\n",
    "      \"Energieart\": \"Hier soll entweder Gas oder Strom stehen\",\n",
    "      \"Fehler\": \"Gib hier an, ob du bestimmte Daten nicht gefunden hast. Gib dann True an, ansonsten False. Damit wollen wir fehlerhafte Daten filtern\"\n",
    "      }\n",
    "      Bitte gebe nur den JSON-String aus. Achte darauf, dass nur ein JSON-Objekt ausgegeben wird. Wenn ein Wert nicht gefunden wird, dann gib \"nicht gefunden\" an. Wenn Daten doppelt gefunden werden, dann fasse die Ergebnisse zusammen und gib nur den besten Treffer aus.'''\n",
    "    # client = OpenAI(base_url=\"http://localhost:1234/v1\", api_key=\"lm-studio\")\n",
    "    client = openai.OpenAI(api_key='sk-proj-Ue2xY2FVsfuh1aNNTCg9T3BlbkFJQZgtifQyraq93mqfkMf3')\n",
    "    response = client.chat.completions.create(\n",
    "        model = model,\n",
    "        messages=[{\"role\": \"system\", \"content\": prompt},\n",
    "                  {\"role\": \"user\", \"content\": text}],\n",
    "        max_tokens=150\n",
    "    )\n",
    "\n",
    "    # response = openai.ChatCompletion.create(\n",
    "    #     model=\"gpt-3.5-turbo\",\n",
    "    #     messages=[{\"role\": \"system\", \"content\": prompt},\n",
    "    #               {\"role\": \"user\", \"content\": text}],\n",
    "    #     max_tokens=150\n",
    "    # )\n",
    "    extracted_data = response.choices[0].message['content'].strip()\n",
    "    return extracted_data  # Remove any extra newlines at the end\n",
    "\n",
    "def categorize_invoice(pdf_path):\n",
    "    keywords_electricity = [\"Strom\", \"kWh\", \"Netzbetreiber\", \"Energie\"]\n",
    "    keywords_gas = [\"Gas\", \"m³\", \"Heizkosten\", \"Gasanbieter\", \"therm\", \"brennwert\", \"kWh/m³\", \"Gasverbrauch\", \"Gasrechnung\"]\n",
    "\n",
    "    with fitz.open(pdf_path) as doc:\n",
    "        text = \"\"\n",
    "        for page in doc:\n",
    "            text += page.get_text()\n",
    "\n",
    "    text = text.lower()\n",
    "\n",
    "    electricity_score = sum(keyword.lower() in text for keyword in keywords_electricity)\n",
    "    gas_score = sum(keyword.lower() in text for keyword in keywords_gas)\n",
    "\n",
    "    if electricity_score > gas_score:\n",
    "        return \"Strom\"\n",
    "    elif gas_score > electricity_score:\n",
    "        return \"Gas\"\n",
    "    else:\n",
    "        return \"Nicht eindeutig\"\n",
    "\n",
    "def process_pdfs(file_list, model):\n",
    "    extracted_data = []\n",
    "\n",
    "    for file_path in file_list:\n",
    "        #with open(file_path, 'wb') as f:\n",
    "        #    f.write(file_content)\n",
    "\n",
    "# KEIN SCHÖNER TEST. TODO: bessere Abfrage, ob erfolgreich \n",
    "        text = extract_text_from_pdf(file_path, model)\n",
    "        if not text.strip():\n",
    "            text = extract_text_from_images(file_path)  # Verwende OCR, wenn kein Text gefunden wurde\n",
    "        data = extract_data_from_text(text)\n",
    "        print(f\"Extracted data from text for {file_name}:\\n{data}\\n\")  # Debugging-Ausgabe\n",
    "        extracted_data.append(data)\n",
    "\n",
    "        time.sleep(5)  # Pause for 2 seconds between requests to avoid rate limiting\n",
    "\n",
    "    return extracted_data\n",
    "\n",
    "\n",
    "\n",
    "def extract_dict_from_response(response):\n",
    "    response = response.split('{',1)[1].split('}',1)[0]\n",
    "    response = '{' + response + '}'\n",
    "    return json.loads(response)\n",
    "\n",
    "def create_excel_file(data):\n",
    "    data_dict = {'Vertragsnummer': [], 'Adresse Verbrauchsstelle': [], 'Verbrauchte Menge': [], 'Start abgerechneter Zeitraum': [], 'Ende abgerechneter Zeitraum':[], 'Energieart': [], 'Fehler':[]}\n",
    "\n",
    "    for entry in data:\n",
    "        temp_dict = extract_dict_from_response(entry)\n",
    "        print(temp_dict)\n",
    "        data_dict['Vertragsnummer'].append(temp_dict['Vertragsnummer'])\n",
    "        data_dict['Adresse Verbrauchsstelle'].append(temp_dict['Adresse Verbrauchsstelle'])\n",
    "        data_dict['Verbrauchte Menge'].append(temp_dict['Verbrauchte Menge'])\n",
    "        data_dict['Start abgerechneter Zeitraum'].append(temp_dict['Start abgerechneter Zeitraum'])\n",
    "        data_dict['Ende abgerechneter Zeitraum'].append(temp_dict['Ende abgerechneter Zeitraum'])\n",
    "        data_dict['Energieart'].append(temp_dict['Energieart'])\n",
    "        data_dict['Fehler'].append(temp_dict['Fehler'])\n",
    "\n",
    "    df = pd.DataFrame(data_dict)\n",
    "    display(df)\n",
    "    output_file = '/content/extracted_data.xlsx'\n",
    "    df.to_excel(output_file, index=False)\n",
    "    return output_file"
   ]
  },
  {
   "cell_type": "code",
   "execution_count": 13,
   "metadata": {},
   "outputs": [
    {
     "name": "stdout",
     "output_type": "stream",
     "text": [
      "['../data\\\\R061023000112.pdf', '../data\\\\R090124000157.pdf', '../data\\\\R160623000581.pdf', '../data\\\\R160623000587.pdf', '../data\\\\R160623000593.pdf', '../data\\\\R180124000120.pdf', '../data\\\\R191223000248.pdf', '../data\\\\R211223000394.pdf', '../data\\\\R220124000415.pdf', '../data\\\\R220124000463.pdf', '../data\\\\R221223000164.pdf', '../data\\\\R271123000363.pdf', '../data\\\\R271123000366.pdf']\n"
     ]
    }
   ],
   "source": [
    "\n",
    "\n",
    "# set root directory for data\n",
    "root_dir = \"../data\" # adjust to name of your root directory\n",
    "# walk over root directory for data and get all csv files with their path and put them into a dataframe\n",
    "path_list = []\n",
    "for root, dirs, files in os.walk(root_dir):\n",
    "    for file in files:\n",
    "        if file.endswith('.pdf'):\n",
    "            path_list.append(os.path.join(root, file))\n",
    "\n",
    "print(path_list)"
   ]
  },
  {
   "cell_type": "code",
   "execution_count": 19,
   "metadata": {},
   "outputs": [
    {
     "data": {
      "text/plain": [
       "'IVU_40_SVK_Rechnung_enwg_EM V. 04 min. Schema_Version: 35\\nEASY_NEUERKUNDE\\nEBE_Belegart:Restforderung\\nEZR_Zeitraum:01.08.2023 - 31.08.2023\\nEFA_Fälligkeit:19.10.2023\\nEVA_Verbrauchsstelle:Berufsbildungswerk Neumünster, Am Hohrkamp 54, D 24537 Neumünster\\nERA_Rechnungsanschrift:Am Hohrkamp 54, D 24537 Neumünster\\nERD_Rechnungsdatum:05.10.2023\\nEBT_Betrag:3.287,05\\nENA_NameRE:Berufsbildungswerk Neumünster  \\nEKZ_Kundennummer2:\\nEKN_Kundennummer:1201940779\\nERN_Rechnungsnummer:000006585525\\nEKM_KonzernMandant:S20\\nEPZ_Prozess:563286\\nEKG_Kundengruppe:2\\nEZU_Unbundling:1\\nELI_Listentitel:Rechnung\\nStadtwerke Itzehoe GmbH • Postfach 19 55 • 25509 Itzehoe\\nKunde: Berufsbildungswerk Neumünster  \\nWilkenDMSId: W29787940\\nFirma\\nBerufsbildungswerk Neumünster\\nAm Hohrkamp 54 \\nD 24537 Neumünster\\nRechnung\\nAnsprechpartner:\\nService Sondervertragskunden\\nTelefon:\\n04124 936-225\\nTelefax:\\n04124 936-130\\nE-Mail:\\ninfo@stadtwerke-itzehoe.de\\nInternet:\\nwww.stadtwerke-itzehoe.de\\nKundennummer:\\n1201940779\\n(Bei Zahlungen und Schriftverkehr bitte angeben)\\nRechnungsdatum: 05.10.2023\\nRechnungsnr.:\\n000006585525\\nGläubiger ID:\\nDE15SWI00000558128\\nStrom Energiepreis RLM\\nProdukt\\nLeistungsempfänger: Diakonie-Hilfswerk Schleswig-Holstein, Aalborgstraße 61, 24768 Rendsburg\\nFür unsere Lieferung in der Zeit vom 01.08.2023 bis 31.08.2023 berechnen wir Ihnen:\\nSteuersatz\\nNetto\\nUmsatzsteuer\\nBrutto\\nVerbrauch\\n3.287,05 EUR\\n524,82 EUR\\n19 %\\n2.762,23 EUR\\nStrom\\n9.674 kWh\\n2.762,23 EUR\\n524,82 EUR\\n3.287,05 EUR\\nGesamtbetrag\\n1\\nBitte überweisen Sie die Forderung bis zum 19.10.2023.\\nFällig am: 19.10.2023\\nDie Einzelermittlung der vorstehenden Werte ist auf den nächsten Seiten aufgeführt.\\nStadtwerke Itzehoe GmbH\\nMit freundlichen Grüßen\\nStadtwerke Itzehoe GmbH\\nGasstraße 18 • 25524 Itzehoe\\nT 04821 774-0\\nF  04821 774-117\\nE info@stadtwerke-itzehoe.de\\nW  www.stadtwerke-itzehoe.de\\nSparkasse Westholstein \\nIBAN DE48 2225 0020 0000 0097 92 • NOLADE21WHO\\nVolksbank Raiffeisenbank eG\\nIBAN DE35 2019 0109 0000 0031 00 • GENODEF1HH4\\nAmtsgericht Pinneberg HRB 1890 IZ\\nUST-IDNr. DE 204271339\\nServicecenter Bekstraße Ecke Viktoriastraße\\nMo | Mi | Do\\nDi\\nFr\\nAufsichtsratsvorsitzender Christian Sieberns\\nGeschäftsführer Erik Dittrich \\n8-12 und 13-16 Uhr\\n10-18 Uhr\\n8-13 Uhr\\nSeite 2\\nVerbrauchsermittlung für Kunde 1201940779, Rechnungsnummer 000006585525, Rechnungsdatum \\n05.10.2023\\nfür Abnahmestelle Am Hohrkamp 54, 24537 Neumünster\\nAugust 2023\\nStrom\\nVerbrauchsart\\nZähler Nr.\\nDatum\\nvon - bis\\n=\\nMesslokation: DE0004582453700000000000001066526\\nVerbrauch\\nFaktor\\n1EMH0004217968 01.08.23\\nWirkarbeit HT\\n31.08.23\\n7.743\\n7.743\\n-\\nkWh\\n*LIE-220\\n1EMH0004217968 01.08.23\\nWirkarbeit NT\\n31.08.23\\n1.931\\n1.931\\n-\\nkWh\\n*LIE-220\\n9.674 kWh\\n1EMH0004217968 01.08.23\\nWirkleistung Maximum\\n31.08.23\\n76,000\\n76,000\\n-\\nkW\\n*LIE-220\\n76,000 kW\\nErmittlung der Benutzungsstunden:\\nAngesetzte Jahreswirkarbeit = 113190 kWh\\n1489 h = 113190 kWh / 76 kW\\nJahresbenutzungsstunden = Summe Wirkarbeit / Leistungsspitze\\nAngesetzte Jahresspitze = 76 kW\\nMarktpartner für Messlokation: DE0004582453700000000000001066526\\nMessstellenbetreiber:  ENOMETRIK Gesellschaft für Messdienstleistungen mb - 9905056000007\\n01.08.2023 - 31.08.2023\\nNetzbetreiber:  Schleswig-Holstein Netz AG - 9900535000007 \\n01.08.2023 - 31.08.2023\\nVBA-Nr.\\nVerbrauchsart\\nlfd. Jahr\\nVorjahr\\nAbrechnungszeitraum\\nVergleichszeitraum\\nJahr gesamt\\nJahresvergleich\\nVerbrauchsvergleich\\n1001\\nWirkarbeit HT\\n7.743 kWh\\n60.542\\nkWh\\n7.607\\nkWh\\n66.256 kWh\\n1002\\nWirkarbeit NT\\n1.931 kWh\\n14.816\\nkWh\\n1.887\\nkWh\\n15.471 kWh\\n12050\\nWirkleistung Maximum\\n76 kW\\n76\\nkW\\n54\\nkW\\n90 kW\\n         \\n* Erläuterungen Ableseherkunft und Messwerttypen\\nLIE\\nErmittlung durch den Lieferanten\\n220\\nabgelesener Wert (wahrer Wert, abrechnungsrelevant)\\nBetragsermittlung für Kunde 1201940779:  August-23\\nfür Produkt: Strom Energiepreis RLM\\nSeite 3\\nBetragsermittlung für \\nBeginn\\nzu berech. Verbrauch\\nx\\nPreis\\n=\\nBetrag\\nMesslokation: DE0004582453700000000000001066526\\nEnde\\nPosition\\nMarktlokation: 50452876020\\nWirkarbeit\\n10,04\\nkWh\\n7.743\\nx\\nct/kWh\\n=\\n31.08.23\\n01.08.23 -\\nArbeitspreis HT\\n777,40 EUR\\n10,04\\nkWh\\n1.931\\nx\\nct/kWh\\n=\\n31.08.23\\n01.08.23 -\\nArbeitspreis NT\\n193,87 EUR\\nZwischensumme\\n971,27 EUR\\nAbgaben und Steuern\\n2,05\\nkWh\\n9.674\\nx\\nct/kWh\\n=\\n31.08.23\\n01.08.23 -\\nStromsteuer\\n198,32 EUR\\nNetznutzung und Konzessionsabgabe\\n0,1085\\nkWh\\n9.674\\nx\\nEUR/kWh\\n=\\n31.08.23\\n01.08.23 -\\nArbeitspreis NN\\n1.049,63 EUR\\n0,1699178\\nkW\\n76\\nx\\nEUR/kW/Tag\\n=\\n31.08.23\\n01.08.23 -\\nLeistungspreis NN\\n400,33 EUR\\n0,00357\\nkWh\\n9.674\\nx\\nEUR/kWh\\n=\\n31.08.23\\n01.08.23 -\\nKWK\\n34,53 EUR\\n0,00417\\nkWh\\n9.674\\nx\\nEUR/kWh\\n=\\n31.08.23\\n01.08.23 -\\nNetzentgeltumlage LV A\\n40,34 EUR\\n0,00591\\nkWh\\n9.674\\nx\\nEUR/kWh\\n=\\n31.08.23\\n01.08.23 -\\nOffshore-Umlage\\n57,17 EUR\\n0,0011\\nkWh\\n9.674\\nx\\nEUR/kWh\\n=\\n31.08.23\\n01.08.23 -\\nKonzessionsabgabe\\n10,64 EUR\\nZwischensumme\\n1.592,64 EUR\\nGesamtsumme Netto\\n2.762,23 EUR\\nVertragsdaten für Marktlokation: 50452876020 Messlokation: DE0004582453700000000000001066526\\nProdukt: Strom Energiepreis RLM - Sondervertrag\\nDer Vertrag ist nächstmöglich unter Beachtung der Kündigungsfrist kündbar.\\nBetragsermittlung für Kunde 1201940779:  August-23\\nfür Produkt: Strom Energiepreis RLM\\nSeite 4\\nStromkennzeichnung gemäß §42 Energiewirtschaftsgesetz vom 07. Juli 2005 geändert 2011\\nAngaben auf Basis 2022 (Bezugsjahr)\\nEnergiemix\\nKohle\\nsonst. Fossile\\nErdgas\\nerneuerb. nach EEG\\nKernkraft\\nsonst. Erneuerbare\\nGraustrom Mix\\n14,2 %\\n0,5 %\\n10,8 %\\n57,2 %\\n5,0 %\\n12,4 %\\nMix\\nKohlendioxid\\nradioaktiver Abfall\\nUmweltauswirkungen\\nGraustrom Mix\\n175\\n0,0001\\ng/kWh\\ng/kWh\\nEinpersonenhaushalt\\nVerbrauchsvergleich Deutschland\\nFantastisch\\nFantastisch\\nGut\\nFantastisch\\nHoch\\nGut\\nGut\\nHoch\\nFantastisch\\nViel zu hoch\\nGut\\nHoch\\nViel zu hoch\\nHoch\\nViel zu hoch\\nViel zu hoch\\n1. Pers.\\n2,5 %\\n3,8 %\\n3,8 %\\n5,0 %\\n5,0 %\\n5,0 %\\n6,3 %\\n6,3 %\\n6,3 %\\n6,3 %\\n7,5 %\\n7,5 %\\n7,5 %\\n8,8 %\\n8,8 %\\n10,0 %\\nGrafische Darstellung Ihres Verbrauchs\\nIhr Verbrauch\\nVerbrauch Jahr\\nVorjahr Monat\\nVorjahr Jahr\\nkWh\\n80.000\\n70.000\\n60.000\\n50.000\\n40.000\\n30.000\\n20.000\\n10.000\\n0\\nErläuterung Ihrer Preisbestandteile:\\nArbeitspreis HT\\nDer Preis für Ihren Strom HT pro verbrauchter Kilowattstunde (kWh).\\nArbeitspreis NT\\nDer Preis für Ihren Strom NT pro verbrauchter Kilowattstunde (kWh).\\nNN Strom Leistungspreis RLM\\nEntgelte für die Pflege, Instandhaltung und Nutzung des Netzes\\nNN Strom Arbeit RLM\\nDer Preis für Ihren Strom pro verbrauchter Kilowattstunde (kWh).\\nEEG\\nErneuerbare Energien\\nStromsteuer\\nStromsteuer\\nNN Strom Konzessionsabgabe\\nEntgelte an die Gemeinden für die Mitbenutzung von öffentlichen Verkehrswegen durch \\nVersorgungsleitungen (Konzessionsabgabe)\\nNN Strom KWK\\nFörderung von Kraft-Wärme-Kopplungsanlagen.\\nNN Strom Nev Umlage\\nUmlage nach § 19 Abs. 2 StromNEV  \\nNN Strom Offshore Umlage\\nOffshore - Netzumlage\\nHinweis zur Schlichtungsstelle\\nFragen oder Beschwerden im Zusammenhang mit Ihrer Energielieferung können an unseren Verbraucherservice per Post \\n( Stadtwerke Itzehoe GmbH • Postfach 19 55 • 25509 Itzehoe), telefonisch (04821 774-0) oder per E-Mail \\n(info@stadtwerke-itzehoe.de) gerichtet werden. \\nDer Verbraucherservice der Bundesnetzagentur für den Bereich Elektrizität und Gas \\nDer Verbraucherservice der Bundesnetzagentur stellt Ihnen Informationen über das geltende Recht, Ihre Rechte als \\nHaushaltskunde und über Streitbeilegungsverfahren für die Bereiche Elektrizität und Gas zur Verfügung und ist unter \\nfolgenden Kontaktdaten erreichbar: \\nBundesnetzagentur für Elektrizität, Gas, Telekommunikation, Post, Eisenbahnen Verbraucherservice Postfach 8001 / \\n53105 Bonn \\nTelefon: Mo.-Fr. von 09:00 - 15:00 Uhr 030 22480-500 oder 01805 101000 - Bundesweites Infotelefon (Festnetzpreis \\n14ct/min; Mobilfunkpreise maximal 42 ct/min) \\nTelefax: 030 22480-323 \\nMail: verbraucherservice-energie@bnetza.de\\nZur Beilegung von Streitigkeiten kann ein Schlichtungsverfahren bei der Schlichtungsstelle ENERGIE beantragt werden. \\nVoraussetzung dafür ist, dass der Verbraucherservice unseres Unternehmens angerufen wurde und keine beidseitig \\nzufriedenstellende Lösung gefunden wurde. \\nSchlichtungsstelle Energie e.V. \\nFriedrichstraße 133 \\n10117 Berlin \\nTel.: 030 / 27 57 240 - 0 \\nFax: 030 / 27 57 240 - 69 \\nInternet: www.schlichtungsstelle-energie.de \\nMail: info@schlichtungsstelle-energie.de \\nHinweis zur Energieeffizienz\\n„Informationen zu Anbietern von wirksamen Maßnahmen zur Energieeffizienzverbesserung und Energieeinsparung \\nsowie ihren Angeboten finden Sie auf einer bei der Bundestelle für Energieeffizienz (BfEE) öffentlich geführten \\nAnbieterliste unter www.bfee-online.de“\\nIn der Wahl Ihres Gas- und Stromlieferant sind Sie frei, ein Wechsel ist für Sie kostenlos.\\nDie Bundesnetzagentur plant, zukünftig unabhängige Vergleichsprotale auszuweisen, auf denen Sie sich kostenlos über \\nunterschiedliche Marktangebote informieren können. Nähere Infos erhalten Sie unter https://www.bundesnetzagentur.de\\n'"
      ]
     },
     "execution_count": 19,
     "metadata": {},
     "output_type": "execute_result"
    }
   ],
   "source": [
    "extract_text_from_pdf('../data\\\\R061023000112.pdf')"
   ]
  },
  {
   "cell_type": "code",
   "execution_count": 14,
   "metadata": {},
   "outputs": [
    {
     "ename": "TypeError",
     "evalue": "extract_data_from_text() missing 1 required positional argument: 'text'",
     "output_type": "error",
     "traceback": [
      "\u001b[1;31m---------------------------------------------------------------------------\u001b[0m",
      "\u001b[1;31mTypeError\u001b[0m                                 Traceback (most recent call last)",
      "\u001b[1;32mc:\\Users\\Christian\\AI\\invoicereadingassistant\\src\\Rechnungen.ipynb Cell 4\u001b[0m line \u001b[0;36m2\n\u001b[0;32m      <a href='vscode-notebook-cell:/c%3A/Users/Christian/AI/invoicereadingassistant/src/Rechnungen.ipynb#W5sZmlsZQ%3D%3D?line=0'>1</a>\u001b[0m \u001b[39m# Daten aus PDF-Dateien extrahieren\u001b[39;00m\n\u001b[1;32m----> <a href='vscode-notebook-cell:/c%3A/Users/Christian/AI/invoicereadingassistant/src/Rechnungen.ipynb#W5sZmlsZQ%3D%3D?line=1'>2</a>\u001b[0m extracted_data \u001b[39m=\u001b[39m process_pdfs(path_list)\n",
      "\u001b[1;32mc:\\Users\\Christian\\AI\\invoicereadingassistant\\src\\Rechnungen.ipynb Cell 4\u001b[0m line \u001b[0;36m7\n\u001b[0;32m     <a href='vscode-notebook-cell:/c%3A/Users/Christian/AI/invoicereadingassistant/src/Rechnungen.ipynb#W5sZmlsZQ%3D%3D?line=74'>75</a>\u001b[0m \u001b[39mif\u001b[39;00m \u001b[39mnot\u001b[39;00m text\u001b[39m.\u001b[39mstrip():\n\u001b[0;32m     <a href='vscode-notebook-cell:/c%3A/Users/Christian/AI/invoicereadingassistant/src/Rechnungen.ipynb#W5sZmlsZQ%3D%3D?line=75'>76</a>\u001b[0m     text \u001b[39m=\u001b[39m extract_text_from_images(file_path)  \u001b[39m# Verwende OCR, wenn kein Text gefunden wurde\u001b[39;00m\n\u001b[1;32m---> <a href='vscode-notebook-cell:/c%3A/Users/Christian/AI/invoicereadingassistant/src/Rechnungen.ipynb#W5sZmlsZQ%3D%3D?line=76'>77</a>\u001b[0m data \u001b[39m=\u001b[39m extract_data_from_text(text)\n\u001b[0;32m     <a href='vscode-notebook-cell:/c%3A/Users/Christian/AI/invoicereadingassistant/src/Rechnungen.ipynb#W5sZmlsZQ%3D%3D?line=77'>78</a>\u001b[0m \u001b[39mprint\u001b[39m(\u001b[39mf\u001b[39m\u001b[39m\"\u001b[39m\u001b[39mExtracted data from text for \u001b[39m\u001b[39m{\u001b[39;00mfile_name\u001b[39m}\u001b[39;00m\u001b[39m:\u001b[39m\u001b[39m\\n\u001b[39;00m\u001b[39m{\u001b[39;00mdata\u001b[39m}\u001b[39;00m\u001b[39m\\n\u001b[39;00m\u001b[39m\"\u001b[39m)  \u001b[39m# Debugging-Ausgabe\u001b[39;00m\n\u001b[0;32m     <a href='vscode-notebook-cell:/c%3A/Users/Christian/AI/invoicereadingassistant/src/Rechnungen.ipynb#W5sZmlsZQ%3D%3D?line=78'>79</a>\u001b[0m extracted_data\u001b[39m.\u001b[39mappend(data)\n",
      "\u001b[1;31mTypeError\u001b[0m: extract_data_from_text() missing 1 required positional argument: 'text'"
     ]
    }
   ],
   "source": [
    "# Daten aus PDF-Dateien extrahieren\n",
    "extracted_data = process_pdfs(path_list)"
   ]
  },
  {
   "cell_type": "code",
   "execution_count": 20,
   "metadata": {},
   "outputs": [
    {
     "ename": "TypeError",
     "evalue": "'ChatCompletionMessage' object is not subscriptable",
     "output_type": "error",
     "traceback": [
      "\u001b[1;31m---------------------------------------------------------------------------\u001b[0m",
      "\u001b[1;31mTypeError\u001b[0m                                 Traceback (most recent call last)",
      "\u001b[1;32mc:\\Users\\Christian\\AI\\invoicereadingassistant\\src\\Rechnungen.ipynb Cell 6\u001b[0m line \u001b[0;36m1\n\u001b[1;32m----> <a href='vscode-notebook-cell:/c%3A/Users/Christian/AI/invoicereadingassistant/src/Rechnungen.ipynb#X10sZmlsZQ%3D%3D?line=0'>1</a>\u001b[0m extract_data_from_text(extract_text_from_pdf(\u001b[39m'\u001b[39;49m\u001b[39m../data\u001b[39;49m\u001b[39m\\\\\u001b[39;49;00m\u001b[39mR061023000112.pdf\u001b[39;49m\u001b[39m'\u001b[39;49m))\n",
      "\u001b[1;32mc:\\Users\\Christian\\AI\\invoicereadingassistant\\src\\Rechnungen.ipynb Cell 6\u001b[0m line \u001b[0;36m4\n\u001b[0;32m     <a href='vscode-notebook-cell:/c%3A/Users/Christian/AI/invoicereadingassistant/src/Rechnungen.ipynb#X10sZmlsZQ%3D%3D?line=28'>29</a>\u001b[0m response \u001b[39m=\u001b[39m client\u001b[39m.\u001b[39mchat\u001b[39m.\u001b[39mcompletions\u001b[39m.\u001b[39mcreate(\n\u001b[0;32m     <a href='vscode-notebook-cell:/c%3A/Users/Christian/AI/invoicereadingassistant/src/Rechnungen.ipynb#X10sZmlsZQ%3D%3D?line=29'>30</a>\u001b[0m     model \u001b[39m=\u001b[39m model,\n\u001b[0;32m     <a href='vscode-notebook-cell:/c%3A/Users/Christian/AI/invoicereadingassistant/src/Rechnungen.ipynb#X10sZmlsZQ%3D%3D?line=30'>31</a>\u001b[0m     messages\u001b[39m=\u001b[39m[{\u001b[39m\"\u001b[39m\u001b[39mrole\u001b[39m\u001b[39m\"\u001b[39m: \u001b[39m\"\u001b[39m\u001b[39msystem\u001b[39m\u001b[39m\"\u001b[39m, \u001b[39m\"\u001b[39m\u001b[39mcontent\u001b[39m\u001b[39m\"\u001b[39m: prompt},\n\u001b[0;32m     <a href='vscode-notebook-cell:/c%3A/Users/Christian/AI/invoicereadingassistant/src/Rechnungen.ipynb#X10sZmlsZQ%3D%3D?line=31'>32</a>\u001b[0m               {\u001b[39m\"\u001b[39m\u001b[39mrole\u001b[39m\u001b[39m\"\u001b[39m: \u001b[39m\"\u001b[39m\u001b[39muser\u001b[39m\u001b[39m\"\u001b[39m, \u001b[39m\"\u001b[39m\u001b[39mcontent\u001b[39m\u001b[39m\"\u001b[39m: text}],\n\u001b[0;32m     <a href='vscode-notebook-cell:/c%3A/Users/Christian/AI/invoicereadingassistant/src/Rechnungen.ipynb#X10sZmlsZQ%3D%3D?line=32'>33</a>\u001b[0m     max_tokens\u001b[39m=\u001b[39m\u001b[39m150\u001b[39m\n\u001b[0;32m     <a href='vscode-notebook-cell:/c%3A/Users/Christian/AI/invoicereadingassistant/src/Rechnungen.ipynb#X10sZmlsZQ%3D%3D?line=33'>34</a>\u001b[0m )\n\u001b[0;32m     <a href='vscode-notebook-cell:/c%3A/Users/Christian/AI/invoicereadingassistant/src/Rechnungen.ipynb#X10sZmlsZQ%3D%3D?line=35'>36</a>\u001b[0m \u001b[39m# response = openai.ChatCompletion.create(\u001b[39;00m\n\u001b[0;32m     <a href='vscode-notebook-cell:/c%3A/Users/Christian/AI/invoicereadingassistant/src/Rechnungen.ipynb#X10sZmlsZQ%3D%3D?line=36'>37</a>\u001b[0m \u001b[39m#     model=\"gpt-3.5-turbo\",\u001b[39;00m\n\u001b[0;32m     <a href='vscode-notebook-cell:/c%3A/Users/Christian/AI/invoicereadingassistant/src/Rechnungen.ipynb#X10sZmlsZQ%3D%3D?line=37'>38</a>\u001b[0m \u001b[39m#     messages=[{\"role\": \"system\", \"content\": prompt},\u001b[39;00m\n\u001b[0;32m     <a href='vscode-notebook-cell:/c%3A/Users/Christian/AI/invoicereadingassistant/src/Rechnungen.ipynb#X10sZmlsZQ%3D%3D?line=38'>39</a>\u001b[0m \u001b[39m#               {\"role\": \"user\", \"content\": text}],\u001b[39;00m\n\u001b[0;32m     <a href='vscode-notebook-cell:/c%3A/Users/Christian/AI/invoicereadingassistant/src/Rechnungen.ipynb#X10sZmlsZQ%3D%3D?line=39'>40</a>\u001b[0m \u001b[39m#     max_tokens=150\u001b[39;00m\n\u001b[0;32m     <a href='vscode-notebook-cell:/c%3A/Users/Christian/AI/invoicereadingassistant/src/Rechnungen.ipynb#X10sZmlsZQ%3D%3D?line=40'>41</a>\u001b[0m \u001b[39m# )\u001b[39;00m\n\u001b[1;32m---> <a href='vscode-notebook-cell:/c%3A/Users/Christian/AI/invoicereadingassistant/src/Rechnungen.ipynb#X10sZmlsZQ%3D%3D?line=41'>42</a>\u001b[0m extracted_data \u001b[39m=\u001b[39m response\u001b[39m.\u001b[39;49mchoices[\u001b[39m0\u001b[39;49m]\u001b[39m.\u001b[39;49mmessage[\u001b[39m'\u001b[39;49m\u001b[39mcontent\u001b[39;49m\u001b[39m'\u001b[39;49m]\u001b[39m.\u001b[39mstrip()\n\u001b[0;32m     <a href='vscode-notebook-cell:/c%3A/Users/Christian/AI/invoicereadingassistant/src/Rechnungen.ipynb#X10sZmlsZQ%3D%3D?line=42'>43</a>\u001b[0m \u001b[39mreturn\u001b[39;00m extracted_data\n",
      "\u001b[1;31mTypeError\u001b[0m: 'ChatCompletionMessage' object is not subscriptable"
     ]
    }
   ],
   "source": [
    "extract_data_from_text(extract_text_from_pdf('../data\\\\R061023000112.pdf'))"
   ]
  }
 ],
 "metadata": {
  "kernelspec": {
   "display_name": ".venv",
   "language": "python",
   "name": "python3"
  },
  "language_info": {
   "codemirror_mode": {
    "name": "ipython",
    "version": 3
   },
   "file_extension": ".py",
   "mimetype": "text/x-python",
   "name": "python",
   "nbconvert_exporter": "python",
   "pygments_lexer": "ipython3",
   "version": "3.10.11"
  }
 },
 "nbformat": 4,
 "nbformat_minor": 2
}
